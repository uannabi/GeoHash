{
 "cells": [
  {
   "cell_type": "code",
   "execution_count": 1,
   "metadata": {},
   "outputs": [],
   "source": [
    "import geohash_hilbert as ghh"
   ]
  },
  {
   "cell_type": "code",
   "execution_count": 3,
   "metadata": {},
   "outputs": [
    {
     "data": {
      "text/plain": [
       "False"
      ]
     },
     "execution_count": 3,
     "metadata": {},
     "output_type": "execute_result"
    }
   ],
   "source": [
    "ghh._hilbert.CYTHON_AVAILABLE"
   ]
  },
  {
   "cell_type": "code",
   "execution_count": 6,
   "metadata": {},
   "outputs": [
    {
     "name": "stdout",
     "output_type": "stream",
     "text": [
      "29.2 µs ± 1.29 µs per loop (mean ± std. dev. of 7 runs, 10000 loops each)\n"
     ]
    }
   ],
   "source": [
    " %timeit ghh.encode(6.957036, 50.941291, precision=10)"
   ]
  },
  {
   "cell_type": "code",
   "execution_count": 7,
   "metadata": {},
   "outputs": [
    {
     "data": {
      "text/plain": [
       "{'east': 'Z7fe2T',\n",
       " 'west': 'Z7fe2F',\n",
       " 'north': 'Z7fe2H',\n",
       " 'north-east': 'Z7fe2S',\n",
       " 'north-west': 'Z7fe2I',\n",
       " 'south': 'Z7fe2B',\n",
       " 'south-east': 'Z7fe2A',\n",
       " 'south-west': 'Z7fe2E'}"
      ]
     },
     "execution_count": 7,
     "metadata": {},
     "output_type": "execute_result"
    }
   ],
   "source": [
    "ghh.neighbours('Z7fe2G')"
   ]
  },
  {
   "cell_type": "code",
   "execution_count": 2,
   "metadata": {},
   "outputs": [
    {
     "data": {
      "text/plain": [
       "{'type': 'Feature',\n",
       " 'properties': {'code': 'Z7fe2G',\n",
       "  'lng': 6.9564056396484375,\n",
       "  'lat': 50.941200256347656,\n",
       "  'lng_err': 0.0006866455078125,\n",
       "  'lat_err': 0.00034332275390625,\n",
       "  'bits_per_char': 6},\n",
       " 'bbox': (6.955718994140625,\n",
       "  50.94085693359375,\n",
       "  6.95709228515625,\n",
       "  50.94154357910156),\n",
       " 'geometry': {'type': 'Polygon',\n",
       "  'coordinates': [[(6.955718994140625, 50.94085693359375),\n",
       "    (6.95709228515625, 50.94085693359375),\n",
       "    (6.95709228515625, 50.94154357910156),\n",
       "    (6.955718994140625, 50.94154357910156),\n",
       "    (6.955718994140625, 50.94085693359375)]]}}"
      ]
     },
     "execution_count": 2,
     "metadata": {},
     "output_type": "execute_result"
    }
   ],
   "source": [
    "ghh.rectangle('Z7fe2G')"
   ]
  },
  {
   "cell_type": "code",
   "execution_count": 8,
   "metadata": {},
   "outputs": [
    {
     "data": {
      "text/plain": [
       "{'type': 'Feature',\n",
       " 'properties': {},\n",
       " 'geometry': {'type': 'LineString',\n",
       "  'coordinates': [(-157.5, -78.75),\n",
       "   (-157.5, -56.25),\n",
       "   (-112.5, -56.25),\n",
       "   (-112.5, -78.75),\n",
       "   (-67.5, -78.75),\n",
       "   (-22.5, -78.75),\n",
       "   (-22.5, -56.25),\n",
       "   (-67.5, -56.25),\n",
       "   (-67.5, -33.75),\n",
       "   (-22.5, -33.75),\n",
       "   (-22.5, -11.25),\n",
       "   (-67.5, -11.25),\n",
       "   (-112.5, -11.25),\n",
       "   (-112.5, -33.75),\n",
       "   (-157.5, -33.75),\n",
       "   (-157.5, -11.25),\n",
       "   (-157.5, 11.25),\n",
       "   (-112.5, 11.25),\n",
       "   (-112.5, 33.75),\n",
       "   (-157.5, 33.75),\n",
       "   (-157.5, 56.25),\n",
       "   (-157.5, 78.75),\n",
       "   (-112.5, 78.75),\n",
       "   (-112.5, 56.25),\n",
       "   (-67.5, 56.25),\n",
       "   (-67.5, 78.75),\n",
       "   (-22.5, 78.75),\n",
       "   (-22.5, 56.25),\n",
       "   (-22.5, 33.75),\n",
       "   (-67.5, 33.75),\n",
       "   (-67.5, 11.25),\n",
       "   (-22.5, 11.25),\n",
       "   (22.5, 11.25),\n",
       "   (67.5, 11.25),\n",
       "   (67.5, 33.75),\n",
       "   (22.5, 33.75),\n",
       "   (22.5, 56.25),\n",
       "   (22.5, 78.75),\n",
       "   (67.5, 78.75),\n",
       "   (67.5, 56.25),\n",
       "   (112.5, 56.25),\n",
       "   (112.5, 78.75),\n",
       "   (157.5, 78.75),\n",
       "   (157.5, 56.25),\n",
       "   (157.5, 33.75),\n",
       "   (112.5, 33.75),\n",
       "   (112.5, 11.25),\n",
       "   (157.5, 11.25),\n",
       "   (157.5, -11.25),\n",
       "   (157.5, -33.75),\n",
       "   (112.5, -33.75),\n",
       "   (112.5, -11.25),\n",
       "   (67.5, -11.25),\n",
       "   (22.5, -11.25),\n",
       "   (22.5, -33.75),\n",
       "   (67.5, -33.75),\n",
       "   (67.5, -56.25),\n",
       "   (22.5, -56.25),\n",
       "   (22.5, -78.75),\n",
       "   (67.5, -78.75),\n",
       "   (112.5, -78.75),\n",
       "   (112.5, -56.25),\n",
       "   (157.5, -56.25),\n",
       "   (157.5, -78.75)]}}"
      ]
     },
     "execution_count": 8,
     "metadata": {},
     "output_type": "execute_result"
    }
   ],
   "source": [
    "ghh.hilbert_curve(1)"
   ]
  },
  {
   "cell_type": "code",
   "execution_count": null,
   "metadata": {},
   "outputs": [],
   "source": []
  }
 ],
 "metadata": {
  "kernelspec": {
   "display_name": "Python 3",
   "language": "python",
   "name": "python3"
  },
  "language_info": {
   "codemirror_mode": {
    "name": "ipython",
    "version": 3
   },
   "file_extension": ".py",
   "mimetype": "text/x-python",
   "name": "python",
   "nbconvert_exporter": "python",
   "pygments_lexer": "ipython3",
   "version": "3.6.8"
  }
 },
 "nbformat": 4,
 "nbformat_minor": 4
}
